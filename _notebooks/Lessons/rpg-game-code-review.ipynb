{
 "cells": [
  {
   "cell_type": "markdown",
   "metadata": {
    "vscode": {
     "languageId": "raw"
    }
   },
   "source": [
    "---\n",
    "comments: True\n",
    "layout: post\n",
    "title: code review\n",
    "description: my code review\n",
    "permalink: /codereview\n",
    "categories: [CSSE JavaScript Fundamentals]\n",
    "author: Andrew Ge\n",
    "---  "
   ]
  },
  {
   "cell_type": "code",
   "execution_count": null,
   "metadata": {
    "vscode": {
     "languageId": "javascript"
    }
   },
   "outputs": [
    {
     "data": {
      "application/javascript": "function multiplicationTable(number) {\n    for (let i = 1; i <= 10; i++) {\n        console.log(`${number} x ${i} = ${number * i}`);\n    }\n}\nmultiplicationTable(3);\n",
      "text/plain": [
       "<IPython.core.display.Javascript object>"
      ]
     },
     "metadata": {},
     "output_type": "display_data"
    }
   ],
   "source": [
    "%%js\n",
    "handleKeyDown({ key }) {\n",
    "\n",
    "    switch (key) {\n",
    "        case 'e':  \n",
    "            if(this.hasCollided(\"Hello, please help me escape this prison.\")){\n",
    "                levelData.setPlayerItem();\n",
    "                this.destroy();\n",
    "            }\n",
    "            break;\n",
    "    }\n",
    "}\n",
    "\n",
    "class Data {\n",
    "    constructor() {\n",
    "        this.itemsCollected = 0;  // Initialize itemsCollected as an instance property\n",
    "        this.keys = 0;      // Add property to track if player has received the key\n",
    "        this.displayStatus();\n",
    "    }\n",
    "\n",
    "    setPlayerItem() {\n",
    "        this.itemsCollected++;\n",
    "        addItemToInventory(\"spoon\");\n",
    "        \n",
    "        if (this.itemsCollected === 2) {\n",
    "            const questGiver = GameEnv.gameObjects.find(obj => obj.canvas?.id === 'Questgiver');\n",
    "            if (questGiver) {\n",
    "                if (this.keys == 0) {\n",
    "\n",
    "                    questGiver.spriteData.greeting = \"Here's the key to escape. Use it wisely!\";\n",
    "                    console.clear(); \n",
    "                } else {\n",
    "                    questGiver.spriteData.greeting = \"You already have the key. Use it to escape!\";\n",
    "                    this.displayStatus();\n",
    "                }\n",
    "            }\n",
    "        } else {\n",
    "            this.displayStatus();\n",
    "        }\n",
    "    }\n",
    "\n",
    "    removePlayerItem(item){\n",
    "        this.itemsCollected--;\n",
    "        removeItemFromInventory(item);\n",
    "    }\n",
    "\n",
    "    getPlayerItem() {\n",
    "        return this.itemsCollected;\n",
    "    }\n",
    "\n",
    "    hasEscapeKey() {\n",
    "        this.displayStatus();\n",
    "        return this.keys;\n",
    "    }\n",
    "\n",
    "    addKey(){\n",
    "        this.keys++;\n",
    "        addItemToInventory(\"key\");\n",
    "    }\n",
    "}\n",
    "\n",
    "export default Data;\n"
   ]
  },
  {
   "cell_type": "markdown",
   "metadata": {},
   "source": [
    " - This code is used to register if the player is touching the item by matching the greeting\n",
    " - It then calls a function in a different script, which is passed to all objects, allowed each script to talk to each other easily\n"
   ]
  },
  {
   "cell_type": "code",
   "execution_count": null,
   "metadata": {
    "vscode": {
     "languageId": "javascript"
    }
   },
   "outputs": [
    {
     "data": {
      "application/javascript": "for (let i = 1; i <= 5; i++) {\n    let stars = \"\";\n    for (let j = 1; j <= i; j++) {\n        stars += \"*\";\n    }\n    console.log(stars);\n}\n",
      "text/plain": [
       "<IPython.core.display.Javascript object>"
      ]
     },
     "metadata": {},
     "output_type": "display_data"
    }
   ],
   "source": [
    "%%js \n",
    "normalizeMovement(speed){\n",
    "    let magnitude;\n",
    "    if(Math.abs(this.velocity.x == playerSpeed) && Math.abs(this.velocity.y) == playerSpeed){\n",
    "        magnitude = Math.sqrt((this.velocity.x*this.velocity.x) + (this.velocity.y*this.velocity.y));\n",
    "        speed = speed / magnitude;\n",
    "    }\n",
    "\n",
    "    return speed;\n",
    "}\n",
    "\n",
    "switch (keyCode) {\n",
    "    case this.keypress.up:\n",
    "        this.velocity.y = this.normalizeMovement(-1*playerSpeed);\n",
    "        this.direction = 'up';\n",
    "        break;\n",
    "}"
   ]
  },
  {
   "cell_type": "markdown",
   "metadata": {},
   "source": [
    "- This works by called the normalize movement funciton\n",
    "- basically uses pythagorean theorem to make diagaonal movement the same as horizontal movement\n",
    "- if this didnt exist, player would move faster diagonal"
   ]
  },
  {
   "cell_type": "code",
   "execution_count": null,
   "metadata": {
    "vscode": {
     "languageId": "javascript"
    }
   },
   "outputs": [
    {
     "data": {
      "application/javascript": "function isPrime(num) {\n    if (num <= 1) return false;\n    for (let i = 2; i <= Math.sqrt(num); i++) {\n        if (num % i === 0) return false;\n    }\n    return true;\n}\n\nfor (let i = 1; i <= 50; i++) {\n    if (isPrime(i)) {\n        console.log(i);\n    }\n}\n",
      "text/plain": [
       "<IPython.core.display.Javascript object>"
      ]
     },
     "metadata": {},
     "output_type": "display_data"
    }
   ],
   "source": [
    "%%js \n",
    "export function addItemToInventory(itemName) {\n",
    "    if (inventoryItems.length < 8) { // Limit inventory slots\n",
    "        inventoryItems.push(itemName);\n",
    "        localStorage.setItem(\"inventoryItems\", JSON.stringify(inventoryItems));\n",
    "    } else {\n",
    "        alert(\"Inventory full!\");\n",
    "    }\n",
    "    updateInventory();\n",
    "}\n",
    "\n",
    "function updateInventory() {\n",
    "    const inventory = document.getElementById(\"inventory\");\n",
    "    if (!inventory) return;\n",
    "\n",
    "    inventory.innerHTML = \"\"; // Clear old items\n",
    "\n",
    "    inventoryItems.forEach(item => {\n",
    "        const slot = document.createElement(\"div\");\n",
    "        slot.className = \"inventory-slot\";\n",
    "\n",
    "        const img = document.createElement(\"img\");\n",
    "        img.src = imagePath + itemImages[item] || imagePath + \"/assets/images/default.png\"; // Fallback image\n",
    "        img.alt = item;\n",
    "        img.style.width = \"40px\";\n",
    "        img.style.height = \"40px\";\n",
    "\n",
    "        slot.appendChild(img);\n",
    "        inventory.appendChild(slot);\n",
    "    });\n",
    "}\n"
   ]
  },
  {
   "cell_type": "markdown",
   "metadata": {},
   "source": [
    "- Uses an array to store items\n",
    "- calls a function that updates the markdown to display image and grid"
   ]
  },
  {
   "cell_type": "code",
   "execution_count": null,
   "metadata": {
    "vscode": {
     "languageId": "javascript"
    }
   },
   "outputs": [],
   "source": [
    "setPrompt(answers){\n",
    "    for (let i = 0; i < answers.length; i++) {\n",
    "        console.log('Index:', i);             // The index of the array\n",
    "        console.log('Question Index:', answers[i].questionIndex);\n",
    "        console.log('Answer:', answers[i].answer);\n",
    "\n",
    "        if(answers[i].questionIndex == 0 && answers[i].answer == \"15\"){\n",
    "            console.log(\"correct\");\n",
    "            if(!hasGottenQuizKey)\n",
    "            {\n",
    "                this.addKey();\n",
    "                hasGottenQuizKey = true;\n",
    "            }\n",
    "            \n",
    "            console.log(\"keys obtained: \" + this.keys);\n",
    "        }\n",
    "    }\n",
    "}"
   ]
  },
  {
   "cell_type": "markdown",
   "metadata": {},
   "source": [
    "just checks if the answer is equal to correct."
   ]
  }
 ],
 "metadata": {
  "kernelspec": {
   "display_name": "Python 3",
   "language": "python",
   "name": "python3"
  },
  "language_info": {
   "codemirror_mode": {
    "name": "ipython",
    "version": 3
   },
   "file_extension": ".py",
   "mimetype": "text/x-python",
   "name": "python",
   "nbconvert_exporter": "python",
   "pygments_lexer": "ipython3",
   "version": "3.11.9"
  }
 },
 "nbformat": 4,
 "nbformat_minor": 2
}
